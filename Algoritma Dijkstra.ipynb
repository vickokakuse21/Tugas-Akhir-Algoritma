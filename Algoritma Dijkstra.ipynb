{
 "cells": [
  {
   "cell_type": "code",
   "execution_count": 9,
   "metadata": {},
   "outputs": [],
   "source": [
    "def initial_graph() :\n",
    "        return {   \n",
    "            '1': {'2':550, '5':400, '4':800},\n",
    "            '2': {'3':1700, '1':550},\n",
    "            '3': {'2':1700, '33':3900},\n",
    "            '4': {'1':800, '7':180, '19':5400},\n",
    "            '5': {'1':400, '6':70, '7':700},\n",
    "            '6': {'9':500, '5':70, '8':400},\n",
    "            '7': {'8':650, '5':700, '4':180},\n",
    "            '8': {'6':400, '7':650, '12':180},\n",
    "            '9': {'10':130, '11':100},\n",
    "            '10': {'2':800, '9':130, '13':180},\n",
    "            '11': {'9':100, '12':270, '13':100},\n",
    "            '12': {'8':180, '15':250, '11':270},\n",
    "            '13': {'14':230, '10':180, '11':100, '21':1200},\n",
    "            '14': {'13':230, '16':60, '20':1100},\n",
    "            '15': {'12':250, '16':250, '17':1400, '23':850},\n",
    "            '16': {'14':60, '15':250, '22':1100},\n",
    "            '17': {'15':1400, '23':1300, '18':300},\n",
    "            '18': {'17':300, '31':1300, '19':450},\n",
    "            '19': {'18':450, '31':1200, '4':5400},\n",
    "            '20': {'21':130, '22':750, '14':1100},\n",
    "            '21': {'13':1200, '20':130, '24':2700},\n",
    "            '22': {'16':1100, '20':750, '26':650},\n",
    "            '23': {'26':400, '15':850, '17':1300},\n",
    "            '24': {'21':270, '30':430, '25':500},\n",
    "            '25': {'24':500, '28':290, '27':800},\n",
    "            '26': {'22':650, '23':400, '27':450},\n",
    "            '27': {'26':450, '25':800, '32':500},\n",
    "            '28': {'25':290, '29':240, '35':700},\n",
    "            '29': {'30':250, '36':800, '28':240},\n",
    "            '30': {'33':560, '24':430, '29':250},\n",
    "            '31': {'18':1300, '19':1200, '32':1800, '34':3000},\n",
    "            '32': {'35':800, '27':500, '31':1800},\n",
    "            '33': {'3':3900, '30':560, '37':550},\n",
    "            '34': {'38':2200, '32':1100, '31':3000},\n",
    "            '35': {'36':400, '28':700, '32':800},\n",
    "            '36': {'37':260, '29':800, '35':400},\n",
    "            '37': {'33':550, '38':700, '36':260},\n",
    "            '38': {'37':700, '34':2200}\n",
    "        }"
   ]
  },
  {
   "cell_type": "code",
   "execution_count": 10,
   "metadata": {},
   "outputs": [],
   "source": [
    "graph = initial_graph()"
   ]
  },
  {
   "cell_type": "code",
   "execution_count": 15,
   "metadata": {},
   "outputs": [],
   "source": [
    "def Shortest_path(graph,initial,final):\n",
    "    path = {}\n",
    "    adj_node = {}\n",
    "    queue = []\n",
    "    \n",
    "    for node in graph:\n",
    "        path[node] = float(\"inf\")\n",
    "        adj_node[node] = None\n",
    "        queue.append(node)\n",
    "\n",
    "    path[initial] = 0\n",
    "    while queue:\n",
    "        key_min = queue[0]\n",
    "        min_val = path[key_min]\n",
    "        for n in range(1, len(queue)):\n",
    "            if path[queue[n]] < min_val:\n",
    "                key_min = queue[n]\n",
    "                min_val = path[key_min]\n",
    "        cur = key_min\n",
    "        queue.remove(cur)\n",
    "        #rint(cur)\n",
    "\n",
    "        for i in graph[cur]:\n",
    "            alternate = graph[cur][i] + path[cur]\n",
    "            if path[i] > alternate:\n",
    "                path[i] = alternate\n",
    "                adj_node[i] = cur               \n",
    "\n",
    "    print('Lintasan Terpendek'.format(initial,final))\n",
    "    print(final, end='<-')\n",
    "    while True:\n",
    "        final = adj_node[final]\n",
    "        if final is None:\n",
    "            \n",
    "            print(\"\")\n",
    "            break\n",
    "        print(final, end='<-')"
   ]
  },
  {
   "cell_type": "code",
   "execution_count": 16,
   "metadata": {},
   "outputs": [
    {
     "name": "stdout",
     "output_type": "stream",
     "text": [
      "Lintasan Terpendek\n",
      "38<-37<-36<-35<-32<-27<-26<-23<-15<-16<-14<-13<-\n"
     ]
    }
   ],
   "source": [
    "Shortest_path(graph,'13','38')"
   ]
  },
  {
   "cell_type": "code",
   "execution_count": null,
   "metadata": {},
   "outputs": [],
   "source": []
  }
 ],
 "metadata": {
  "kernelspec": {
   "display_name": "Python 3",
   "language": "python",
   "name": "python3"
  },
  "language_info": {
   "codemirror_mode": {
    "name": "ipython",
    "version": 3
   },
   "file_extension": ".py",
   "mimetype": "text/x-python",
   "name": "python",
   "nbconvert_exporter": "python",
   "pygments_lexer": "ipython3",
   "version": "3.7.4"
  }
 },
 "nbformat": 4,
 "nbformat_minor": 2
}
